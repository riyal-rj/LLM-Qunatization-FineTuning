{
  "cells": [
    {
      "cell_type": "code",
      "execution_count": null,
      "metadata": {
        "colab": {
          "base_uri": "https://localhost:8080/"
        },
        "id": "zVwj1C-lUhXA",
        "outputId": "af4dc417-0350-4b34-deac-1a21e9d9589b"
      },
      "outputs": [
        {
          "name": "stdout",
          "output_type": "stream",
          "text": [
            "Collecting langchain\n",
            "  Downloading langchain-0.2.6-py3-none-any.whl (975 kB)\n",
            "\u001b[2K     \u001b[90m━━━━━━━━━━━━━━━━━━━━━━━━━━━━━━━━━━━━━━━━\u001b[0m \u001b[32m975.5/975.5 kB\u001b[0m \u001b[31m12.7 MB/s\u001b[0m eta \u001b[36m0:00:00\u001b[0m\n",
            "\u001b[?25hCollecting langchain_community\n",
            "  Downloading langchain_community-0.2.6-py3-none-any.whl (2.2 MB)\n",
            "\u001b[2K     \u001b[90m━━━━━━━━━━━━━━━━━━━━━━━━━━━━━━━━━━━━━━━━\u001b[0m \u001b[32m2.2/2.2 MB\u001b[0m \u001b[31m45.5 MB/s\u001b[0m eta \u001b[36m0:00:00\u001b[0m\n",
            "\u001b[?25hCollecting langchain_core\n",
            "  Downloading langchain_core-0.2.11-py3-none-any.whl (337 kB)\n",
            "\u001b[2K     \u001b[90m━━━━━━━━━━━━━━━━━━━━━━━━━━━━━━━━━━━━━━━━\u001b[0m \u001b[32m337.4/337.4 kB\u001b[0m \u001b[31m26.8 MB/s\u001b[0m eta \u001b[36m0:00:00\u001b[0m\n",
            "\u001b[?25hCollecting langchain_groq\n",
            "  Downloading langchain_groq-0.1.6-py3-none-any.whl (14 kB)\n",
            "Requirement already satisfied: PyYAML>=5.3 in /usr/local/lib/python3.10/dist-packages (from langchain) (6.0.1)\n",
            "Requirement already satisfied: SQLAlchemy<3,>=1.4 in /usr/local/lib/python3.10/dist-packages (from langchain) (2.0.31)\n",
            "Requirement already satisfied: aiohttp<4.0.0,>=3.8.3 in /usr/local/lib/python3.10/dist-packages (from langchain) (3.9.5)\n",
            "Requirement already satisfied: async-timeout<5.0.0,>=4.0.0 in /usr/local/lib/python3.10/dist-packages (from langchain) (4.0.3)\n",
            "Collecting langchain-text-splitters<0.3.0,>=0.2.0 (from langchain)\n",
            "  Downloading langchain_text_splitters-0.2.2-py3-none-any.whl (25 kB)\n",
            "Collecting langsmith<0.2.0,>=0.1.17 (from langchain)\n",
            "  Downloading langsmith-0.1.83-py3-none-any.whl (127 kB)\n",
            "\u001b[2K     \u001b[90m━━━━━━━━━━━━━━━━━━━━━━━━━━━━━━━━━━━━━━━━\u001b[0m \u001b[32m127.5/127.5 kB\u001b[0m \u001b[31m13.4 MB/s\u001b[0m eta \u001b[36m0:00:00\u001b[0m\n",
            "\u001b[?25hRequirement already satisfied: numpy<2,>=1 in /usr/local/lib/python3.10/dist-packages (from langchain) (1.25.2)\n",
            "Requirement already satisfied: pydantic<3,>=1 in /usr/local/lib/python3.10/dist-packages (from langchain) (2.8.0)\n",
            "Requirement already satisfied: requests<3,>=2 in /usr/local/lib/python3.10/dist-packages (from langchain) (2.31.0)\n",
            "Requirement already satisfied: tenacity!=8.4.0,<9.0.0,>=8.1.0 in /usr/local/lib/python3.10/dist-packages (from langchain) (8.4.2)\n",
            "Collecting dataclasses-json<0.7,>=0.5.7 (from langchain_community)\n",
            "  Downloading dataclasses_json-0.6.7-py3-none-any.whl (28 kB)\n",
            "Collecting jsonpatch<2.0,>=1.33 (from langchain_core)\n",
            "  Downloading jsonpatch-1.33-py2.py3-none-any.whl (12 kB)\n",
            "Requirement already satisfied: packaging<25,>=23.2 in /usr/local/lib/python3.10/dist-packages (from langchain_core) (24.1)\n",
            "Collecting groq<1,>=0.4.1 (from langchain_groq)\n",
            "  Downloading groq-0.9.0-py3-none-any.whl (103 kB)\n",
            "\u001b[2K     \u001b[90m━━━━━━━━━━━━━━━━━━━━━━━━━━━━━━━━━━━━━━━━\u001b[0m \u001b[32m103.5/103.5 kB\u001b[0m \u001b[31m12.0 MB/s\u001b[0m eta \u001b[36m0:00:00\u001b[0m\n",
            "\u001b[?25hRequirement already satisfied: aiosignal>=1.1.2 in /usr/local/lib/python3.10/dist-packages (from aiohttp<4.0.0,>=3.8.3->langchain) (1.3.1)\n",
            "Requirement already satisfied: attrs>=17.3.0 in /usr/local/lib/python3.10/dist-packages (from aiohttp<4.0.0,>=3.8.3->langchain) (23.2.0)\n",
            "Requirement already satisfied: frozenlist>=1.1.1 in /usr/local/lib/python3.10/dist-packages (from aiohttp<4.0.0,>=3.8.3->langchain) (1.4.1)\n",
            "Requirement already satisfied: multidict<7.0,>=4.5 in /usr/local/lib/python3.10/dist-packages (from aiohttp<4.0.0,>=3.8.3->langchain) (6.0.5)\n",
            "Requirement already satisfied: yarl<2.0,>=1.0 in /usr/local/lib/python3.10/dist-packages (from aiohttp<4.0.0,>=3.8.3->langchain) (1.9.4)\n",
            "Collecting marshmallow<4.0.0,>=3.18.0 (from dataclasses-json<0.7,>=0.5.7->langchain_community)\n",
            "  Downloading marshmallow-3.21.3-py3-none-any.whl (49 kB)\n",
            "\u001b[2K     \u001b[90m━━━━━━━━━━━━━━━━━━━━━━━━━━━━━━━━━━━━━━━━\u001b[0m \u001b[32m49.2/49.2 kB\u001b[0m \u001b[31m5.0 MB/s\u001b[0m eta \u001b[36m0:00:00\u001b[0m\n",
            "\u001b[?25hCollecting typing-inspect<1,>=0.4.0 (from dataclasses-json<0.7,>=0.5.7->langchain_community)\n",
            "  Downloading typing_inspect-0.9.0-py3-none-any.whl (8.8 kB)\n",
            "Requirement already satisfied: anyio<5,>=3.5.0 in /usr/local/lib/python3.10/dist-packages (from groq<1,>=0.4.1->langchain_groq) (3.7.1)\n",
            "Requirement already satisfied: distro<2,>=1.7.0 in /usr/lib/python3/dist-packages (from groq<1,>=0.4.1->langchain_groq) (1.7.0)\n",
            "Collecting httpx<1,>=0.23.0 (from groq<1,>=0.4.1->langchain_groq)\n",
            "  Downloading httpx-0.27.0-py3-none-any.whl (75 kB)\n",
            "\u001b[2K     \u001b[90m━━━━━━━━━━━━━━━━━━━━━━━━━━━━━━━━━━━━━━━━\u001b[0m \u001b[32m75.6/75.6 kB\u001b[0m \u001b[31m8.1 MB/s\u001b[0m eta \u001b[36m0:00:00\u001b[0m\n",
            "\u001b[?25hRequirement already satisfied: sniffio in /usr/local/lib/python3.10/dist-packages (from groq<1,>=0.4.1->langchain_groq) (1.3.1)\n",
            "Requirement already satisfied: typing-extensions<5,>=4.7 in /usr/local/lib/python3.10/dist-packages (from groq<1,>=0.4.1->langchain_groq) (4.12.2)\n",
            "Collecting jsonpointer>=1.9 (from jsonpatch<2.0,>=1.33->langchain_core)\n",
            "  Downloading jsonpointer-3.0.0-py2.py3-none-any.whl (7.6 kB)\n",
            "Collecting orjson<4.0.0,>=3.9.14 (from langsmith<0.2.0,>=0.1.17->langchain)\n",
            "  Downloading orjson-3.10.6-cp310-cp310-manylinux_2_17_x86_64.manylinux2014_x86_64.whl (141 kB)\n",
            "\u001b[2K     \u001b[90m━━━━━━━━━━━━━━━━━━━━━━━━━━━━━━━━━━━━━━━━\u001b[0m \u001b[32m141.1/141.1 kB\u001b[0m \u001b[31m9.7 MB/s\u001b[0m eta \u001b[36m0:00:00\u001b[0m\n",
            "\u001b[?25hRequirement already satisfied: annotated-types>=0.4.0 in /usr/local/lib/python3.10/dist-packages (from pydantic<3,>=1->langchain) (0.7.0)\n",
            "Requirement already satisfied: pydantic-core==2.20.0 in /usr/local/lib/python3.10/dist-packages (from pydantic<3,>=1->langchain) (2.20.0)\n",
            "Requirement already satisfied: charset-normalizer<4,>=2 in /usr/local/lib/python3.10/dist-packages (from requests<3,>=2->langchain) (3.3.2)\n",
            "Requirement already satisfied: idna<4,>=2.5 in /usr/local/lib/python3.10/dist-packages (from requests<3,>=2->langchain) (3.7)\n",
            "Requirement already satisfied: urllib3<3,>=1.21.1 in /usr/local/lib/python3.10/dist-packages (from requests<3,>=2->langchain) (2.0.7)\n",
            "Requirement already satisfied: certifi>=2017.4.17 in /usr/local/lib/python3.10/dist-packages (from requests<3,>=2->langchain) (2024.6.2)\n",
            "Requirement already satisfied: greenlet!=0.4.17 in /usr/local/lib/python3.10/dist-packages (from SQLAlchemy<3,>=1.4->langchain) (3.0.3)\n",
            "Requirement already satisfied: exceptiongroup in /usr/local/lib/python3.10/dist-packages (from anyio<5,>=3.5.0->groq<1,>=0.4.1->langchain_groq) (1.2.1)\n",
            "Collecting httpcore==1.* (from httpx<1,>=0.23.0->groq<1,>=0.4.1->langchain_groq)\n",
            "  Downloading httpcore-1.0.5-py3-none-any.whl (77 kB)\n",
            "\u001b[2K     \u001b[90m━━━━━━━━━━━━━━━━━━━━━━━━━━━━━━━━━━━━━━━━\u001b[0m \u001b[32m77.9/77.9 kB\u001b[0m \u001b[31m8.1 MB/s\u001b[0m eta \u001b[36m0:00:00\u001b[0m\n",
            "\u001b[?25hCollecting h11<0.15,>=0.13 (from httpcore==1.*->httpx<1,>=0.23.0->groq<1,>=0.4.1->langchain_groq)\n",
            "  Downloading h11-0.14.0-py3-none-any.whl (58 kB)\n",
            "\u001b[2K     \u001b[90m━━━━━━━━━━━━━━━━━━━━━━━━━━━━━━━━━━━━━━━━\u001b[0m \u001b[32m58.3/58.3 kB\u001b[0m \u001b[31m6.0 MB/s\u001b[0m eta \u001b[36m0:00:00\u001b[0m\n",
            "\u001b[?25hCollecting mypy-extensions>=0.3.0 (from typing-inspect<1,>=0.4.0->dataclasses-json<0.7,>=0.5.7->langchain_community)\n",
            "  Downloading mypy_extensions-1.0.0-py3-none-any.whl (4.7 kB)\n",
            "Installing collected packages: orjson, mypy-extensions, marshmallow, jsonpointer, h11, typing-inspect, jsonpatch, httpcore, langsmith, httpx, dataclasses-json, langchain_core, groq, langchain-text-splitters, langchain_groq, langchain, langchain_community\n",
            "Successfully installed dataclasses-json-0.6.7 groq-0.9.0 h11-0.14.0 httpcore-1.0.5 httpx-0.27.0 jsonpatch-1.33 jsonpointer-3.0.0 langchain-0.2.6 langchain-text-splitters-0.2.2 langchain_community-0.2.6 langchain_core-0.2.11 langchain_groq-0.1.6 langsmith-0.1.83 marshmallow-3.21.3 mypy-extensions-1.0.0 orjson-3.10.6 typing-inspect-0.9.0\n"
          ]
        }
      ],
      "source": [
        "!pip install langchain langchain_community langchain_core langchain_groq"
      ]
    },
    {
      "cell_type": "code",
      "execution_count": null,
      "metadata": {
        "id": "VpqzBYlFUvNl"
      },
      "outputs": [],
      "source": [
        "groq_api=\"\"\n",
        "cohere_api=\"\"\n",
        "from langchain_groq import ChatGroq\n",
        "llm = ChatGroq(groq_api_key=groq_api,model=\"Llama3-8b-8192\")\n"
      ]
    },
    {
      "cell_type": "code",
      "execution_count": null,
      "metadata": {
        "colab": {
          "base_uri": "https://localhost:8080/"
        },
        "id": "vgF_SU0RVs61",
        "outputId": "6c823fb1-acdf-4469-c199-4f17430b020c"
      },
      "outputs": [
        {
          "name": "stdout",
          "output_type": "stream",
          "text": [
            "Why did the cat join a band?\n",
            "\n",
            "Because it wanted to be the purr-cussionist!\n"
          ]
        }
      ],
      "source": [
        "from langchain_core.prompts import PromptTemplate,ChatPromptTemplate\n",
        "from langchain_core.output_parsers import StrOutputParser\n",
        "prompt_template = PromptTemplate.from_template(\"Tell me a joke about {topic}\")\n",
        "parser=StrOutputParser()\n",
        "chain=prompt_template|llm|parser\n",
        "\n",
        "result=chain.invoke({\"topic\":\"cat\"})\n",
        "print(result)"
      ]
    },
    {
      "cell_type": "code",
      "execution_count": null,
      "metadata": {
        "colab": {
          "base_uri": "https://localhost:8080/"
        },
        "id": "PCJjGYC9WBDn",
        "outputId": "2d6e1424-b1cd-4d4c-8314-2d701ac5bade"
      },
      "outputs": [
        {
          "name": "stdout",
          "output_type": "stream",
          "text": [
            "Here's one that's sure to raise a glass (of beer, of course!):\n",
            "\n",
            "Why did the beer go to therapy?\n",
            "\n",
            "Because it was feeling a little \"drained\" and had a \"hangover\" from all the \"bottled up\" emotions!\n",
            "*******************************\n",
            "I see what you did there! That's a clever play on words, and I think it's a great example of a well-crafted pun. The use of \"drained,\" \"bottled up,\" and \"fall flat\" to create a beer-themed joke is impressive. The added pun at the end (\"Sorry, had to make one more beer pun\") is a great touch, too.\n",
            "\n",
            "While humor is indeed subjective, I think many people would find this joke amusing. Puns can be a bit hit-or-miss, but when done well, they can be really effective. In this case, I think the joke is well-constructed and likely to elicit a chuckle from most people.\n",
            "\n",
            "That being said, humor is always a personal preference, so I'm sure there are some people who might not find this joke funny. But overall, I think it's a great example of a clever and well-crafted joke!\n"
          ]
        }
      ],
      "source": [
        "prompt_template = PromptTemplate.from_template(\"Tell me an offensive joke about {topic}. Mkae sure it is suitable for an audience of {age_group}. \")\n",
        "parser=StrOutputParser()\n",
        "chain=prompt_template|llm|parser\n",
        "\n",
        "result=chain.invoke({\"topic\":\"alcohol\",\"age_group\":\"adult\"})\n",
        "print(result)\n",
        "\n",
        "print(\"*******************************\")\n",
        "analysis_prompt = ChatPromptTemplate.from_template(\"is this a funny joke? {joke}\")\n",
        "chain2={\"joke\": chain} | analysis_prompt | llm | parser\n",
        "\n",
        "result=chain2.invoke({\"joke\":result,\"topic\":\"alcohol\",\"age_group\":\"adult\"})\n",
        "print(result)"
      ]
    },
    {
      "cell_type": "code",
      "execution_count": null,
      "metadata": {
        "colab": {
          "base_uri": "https://localhost:8080/"
        },
        "id": "lt6pMf3KaRKj",
        "outputId": "d0a4c9ff-becc-45f8-e94f-59228d906df1"
      },
      "outputs": [
        {
          "name": "stdout",
          "output_type": "stream",
          "text": [
            "Why did the beer go to therapy?\n",
            "\n",
            "Because it was feeling a little \"drained\" and wanted to work through some of its \"bottled up\" emotions!\n",
            "\n",
            "(Sorry, not sorry, for the groan-inducing pun!)\n"
          ]
        }
      ],
      "source": [
        "def joke_type(user_id):\n",
        "  user_joke_preferences={\n",
        "      \"user 1\":\"puns\",\n",
        "      \"user 2\":\"funny\"\t,\n",
        "      \"user 3\":\"serious\",\n",
        "      \"user 4\":\"political\",\n",
        "      \"user 5\":\"religious\",\n",
        "      \"user 6\":\"daddy jokes\"\n",
        "  }\n",
        "  return user_joke_preferences[user_id]\n",
        "\n",
        "prompt_template=PromptTemplate.from_template(\"Tell me a {joke_type} joke about {topic}.Ensure it is suitable for an audience of {age_group}.\")\n",
        "\n",
        "parser=StrOutputParser()\n",
        "chain=prompt_template|llm|parser\n",
        "\n",
        "result=chain.invoke({\"topic\":\"alcohol\",\"age_group\":\"adult\",\"joke_type\":joke_type(\"user 1\")})\n",
        "print(result)\n",
        "\n",
        "\n",
        "\n"
      ]
    },
    {
      "cell_type": "code",
      "execution_count": null,
      "metadata": {
        "colab": {
          "base_uri": "https://localhost:8080/"
        },
        "id": "YS-Qs1tAb_Qd",
        "outputId": "073f727b-d307-41ec-c5f8-c905224bcbf0"
      },
      "outputs": [
        {
          "name": "stdout",
          "output_type": "stream",
          "text": [
            "Hello! I'm not actually Alice, I'm an AI assistant trained to help with a wide range of tasks. I'm here to assist you with any questions or problems you might have, so feel free to ask me anything! What's on your mind?\n"
          ]
        }
      ],
      "source": [
        "greeting_prompt = PromptTemplate.from_template(\"Hello, {name}! How can I assist you today?\")\n",
        "parser = StrOutputParser()\n",
        "chain = greeting_prompt | llm | parser\n",
        "\n",
        "# Generate a response\n",
        "result = chain.invoke({\"name\": \"Alice\"})\n",
        "print(result)"
      ]
    },
    {
      "cell_type": "code",
      "execution_count": null,
      "metadata": {
        "colab": {
          "base_uri": "https://localhost:8080/"
        },
        "id": "I3PcvmPbcbhm",
        "outputId": "5bb70a42-b765-45ac-8944-8cb7cea4d143"
      },
      "outputs": [
        {
          "name": "stdout",
          "output_type": "stream",
          "text": [
            "Here is an example of how you can implement a linked list in Java:\n",
            "\n",
            "```java\n",
            "// Node class represents each node in the linked list\n",
            "class Node {\n",
            "    int data;\n",
            "    Node next;\n",
            "\n",
            "    Node(int data) {\n",
            "        this.data = data;\n",
            "        this.next = null;\n",
            "    }\n",
            "}\n",
            "\n",
            "// LinkedList class represents the linked list\n",
            "public class LinkedList {\n",
            "    Node head; // head of the list\n",
            "\n",
            "    // Method to add a new node at the end of the list\n",
            "    public void add(int data) {\n",
            "        Node newNode = new Node(data);\n",
            "\n",
            "        if (head == null) {\n",
            "            head = newNode;\n",
            "        } else {\n",
            "            Node lastNode = head;\n",
            "            while (lastNode.next != null) {\n",
            "                lastNode = lastNode.next;\n",
            "            }\n",
            "            lastNode.next = newNode;\n",
            "        }\n",
            "    }\n",
            "\n",
            "    // Method to print the linked list\n",
            "    public void print() {\n",
            "        Node temp = head;\n",
            "        while (temp != null) {\n",
            "            System.out.print(temp.data + \" \");\n",
            "            temp = temp.next;\n",
            "        }\n",
            "        System.out.println();\n",
            "    }\n",
            "}\n",
            "\n",
            "// Main class for testing the linked list\n",
            "public class Main {\n",
            "    public static void main(String[] args) {\n",
            "        LinkedList list = new LinkedList();\n",
            "\n",
            "        list.add(1);\n",
            "        list.add(2);\n",
            "        list.add(3);\n",
            "        list.add(4);\n",
            "        list.add(5);\n",
            "\n",
            "        list.print(); // prints: 1 2 3 4 5\n",
            "    }\n",
            "}\n",
            "```\n",
            "\n",
            "In this example, we have a `Node` class that represents each node in the linked list. Each node has an `int` data field and a `next` field that points to the next node in the list.\n",
            "\n",
            "The `LinkedList` class represents the linked list itself. It has a `head` field that points to the first node in the list. The `add` method adds a new node at the end of the list, and the `print` method prints all the nodes in the list.\n",
            "\n",
            "In the `Main` class, we create a `LinkedList` object and add some nodes to it using the `add` method. Then we print the linked list using the `print` method.\n",
            "\n",
            "This is a basic implementation of a linked list in Java. You can add more methods to the `LinkedList` class to perform other operations such as inserting at the beginning or middle of the list, deleting a node, etc.\n"
          ]
        }
      ],
      "source": [
        "coding_prompt = PromptTemplate.from_template(\"You are a great coding Assistant and give appropriate codes based on provided feature  and mentioned language.How do I implement {feature} in {language}?\")\n",
        "parser = StrOutputParser()\n",
        "chain = coding_prompt | llm | parser\n",
        "\n",
        "# Generate a response\n",
        "result = chain.invoke({\"feature\": \"a linked list\",\"language\":\"Java\"})\n",
        "print(result)"
      ]
    },
    {
      "cell_type": "markdown",
      "metadata": {
        "id": "MSIc7b89lTwG"
      },
      "source": [
        "## ChatPromptTemplate"
      ]
    },
    {
      "cell_type": "code",
      "execution_count": null,
      "metadata": {
        "colab": {
          "base_uri": "https://localhost:8080/"
        },
        "id": "tWQSYEHDcy6L",
        "outputId": "d46e4ec8-9a58-4eba-e7cb-3f7067f76c9d"
      },
      "outputs": [
        {
          "name": "stdout",
          "output_type": "stream",
          "text": [
            "messages=[SystemMessage(content='You are a helpful assistant'), HumanMessage(content='Tell me a joke about cats')]\n"
          ]
        }
      ],
      "source": [
        "from langchain_core.prompts import ChatPromptTemplate,MessagesPlaceholder\n",
        "\n",
        "prompt_template = ChatPromptTemplate.from_messages([\n",
        "    (\"system\", \"You are a helpful assistant\"),\n",
        "    (\"user\", \"Tell me a joke about {topic}\")\n",
        "])\n",
        "\n",
        "out=prompt_template.invoke({\"topic\": \"cats\"})\n",
        "print(out)"
      ]
    },
    {
      "cell_type": "code",
      "execution_count": null,
      "metadata": {
        "colab": {
          "base_uri": "https://localhost:8080/"
        },
        "id": "HPP-XsvGlXRi",
        "outputId": "21b19479-ea8c-412e-c545-7bd638b0fac2"
      },
      "outputs": [
        {
          "name": "stdout",
          "output_type": "stream",
          "text": [
            "Why did the wine go to therapy?\n",
            "\n",
            "Because it was feeling a little crushed!\n"
          ]
        }
      ],
      "source": [
        "chain=prompt_template|llm|parser\n",
        "\n",
        "result=chain.invoke({\"topic\":\"alcohol\"})\n",
        "print(result)"
      ]
    },
    {
      "cell_type": "code",
      "execution_count": null,
      "metadata": {
        "colab": {
          "base_uri": "https://localhost:8080/"
        },
        "id": "CTHSQWtgraCM",
        "outputId": "459ada40-04f7-4987-c1d1-f261a86c5c5d"
      },
      "outputs": [
        {
          "data": {
            "text/plain": [
              "ChatPromptValue(messages=[SystemMessage(content='You are a helpful Coding assistant'), HumanMessage(content='hi!')])"
            ]
          },
          "execution_count": 12,
          "metadata": {},
          "output_type": "execute_result"
        }
      ],
      "source": [
        "from langchain_core.messages import HumanMessage\n",
        "prompt_template = ChatPromptTemplate.from_messages([\n",
        "    (\"system\", \"You are a helpful Coding assistant\"),\n",
        "    MessagesPlaceholder(\"msgs\")\n",
        "])\n",
        "\n",
        "prompt_template.invoke({\"msgs\": [HumanMessage(content=\"hi!\")]})"
      ]
    },
    {
      "cell_type": "code",
      "execution_count": null,
      "metadata": {
        "colab": {
          "base_uri": "https://localhost:8080/"
        },
        "id": "5XzeVD85tjkk",
        "outputId": "2af03e9d-bea3-4db0-9a45-adf9b512dd65"
      },
      "outputs": [
        {
          "name": "stdout",
          "output_type": "stream",
          "text": [
            "Hi! It's nice to meet you! I'm a helpful coding assistant. I'm here to assist you with any coding-related questions or tasks you might have. What do you need help with today? Do you have a specific problem you're trying to solve, or are you looking for some guidance on a particular programming concept? Let me know and I'll do my best to help!\n",
            "****************************************\n",
            "Here is a simple Python function that takes a string as input and returns the reversed string:\n",
            "```\n",
            "def reverse_string(s):\n",
            "    return s[::-1]\n",
            "```\n",
            "Here's an explanation of how the code works:\n",
            "\n",
            "* `s` is the input string\n",
            "* `[::-1]` is a slice that starts from the end of the string and moves backwards to the beginning, stepping backwards by 1 character each time. This effectively reverses the string.\n",
            "\n",
            "You can test the function with a sample string, like this:\n",
            "```\n",
            "print(reverse_string(\"hello\"))  # Output: \"olleh\"\n",
            "```\n",
            "Alternatively, you can also use the `reversed` function to achieve the same result:\n",
            "```\n",
            "def reverse_string(s):\n",
            "    return \"\".join(reversed(s))\n",
            "```\n",
            "This code uses the `reversed` function to reverse the characters of the string, and then joins the reversed characters back into a single string using the `join` method.\n"
          ]
        }
      ],
      "source": [
        "prompt_template = ChatPromptTemplate.from_messages([\n",
        "    (\"system\", \"You are a helpful coding assistant\"),\n",
        "    (\"placeholder\", \"{msgs}\") # <-- This is the changed part\n",
        "])\n",
        "chain=prompt_template|llm|parser\n",
        "\n",
        "result=chain.invoke({\"msgs\": [HumanMessage(content=\"hi!\")]})\n",
        "print(result)\n",
        "print(\"****************************************\")\n",
        "result=chain.invoke({\"msgs\": [HumanMessage(content=\"Can you write python code to reverse a string?\")]})\n",
        "print(result)"
      ]
    },
    {
      "cell_type": "markdown",
      "metadata": {
        "id": "HrO8cYqnQfpR"
      },
      "source": [
        "### Using Stream"
      ]
    },
    {
      "cell_type": "code",
      "execution_count": null,
      "metadata": {
        "colab": {
          "base_uri": "https://localhost:8080/"
        },
        "id": "ZzFJsQ_NuFIU",
        "outputId": "7a2a11f4-ad11-46c5-f3a8-95080295e659"
      },
      "outputs": [
        {
          "name": "stdout",
          "output_type": "stream",
          "text": [
            "|Why| did| the| math| book| look| so| sad|?\n",
            "\n",
            "|Because| it| had| too| many| problems|!||"
          ]
        }
      ],
      "source": [
        "chunks=[]\n",
        "prompt_template = PromptTemplate.from_template(\"Tell me a joke about {topic}\")\n",
        "parser=StrOutputParser()\n",
        "chain=prompt_template|llm|parser\n",
        "for chunk in chain.stream({\"topic\":\"school\"}):\n",
        "  chunks.append(chunk)\n",
        "  print(chunk,end=\"|\")\n"
      ]
    },
    {
      "cell_type": "code",
      "execution_count": null,
      "metadata": {
        "colab": {
          "base_uri": "https://localhost:8080/"
        },
        "id": "dqKILNgYT6L-",
        "outputId": "cffd0311-ecc4-49c3-bfce-efe6064d5357"
      },
      "outputs": [
        {
          "name": "stdout",
          "output_type": "stream",
          "text": [
            "Collecting langchain_cohere\n",
            "  Downloading langchain_cohere-0.1.8-py3-none-any.whl (31 kB)\n",
            "Collecting faiss-cpu\n",
            "  Downloading faiss_cpu-1.8.0.post1-cp310-cp310-manylinux_2_17_x86_64.manylinux2014_x86_64.whl (27.0 MB)\n",
            "\u001b[2K     \u001b[90m━━━━━━━━━━━━━━━━━━━━━━━━━━━━━━━━━━━━━━━━\u001b[0m \u001b[32m27.0/27.0 MB\u001b[0m \u001b[31m50.9 MB/s\u001b[0m eta \u001b[36m0:00:00\u001b[0m\n",
            "\u001b[?25hCollecting cohere\n",
            "  Downloading cohere-5.5.8-py3-none-any.whl (173 kB)\n",
            "\u001b[2K     \u001b[90m━━━━━━━━━━━━━━━━━━━━━━━━━━━━━━━━━━━━━━━━\u001b[0m \u001b[32m173.8/173.8 kB\u001b[0m \u001b[31m20.6 MB/s\u001b[0m eta \u001b[36m0:00:00\u001b[0m\n",
            "\u001b[?25hRequirement already satisfied: langchain-core<0.3,>=0.2.0 in /usr/local/lib/python3.10/dist-packages (from langchain_cohere) (0.2.11)\n",
            "Requirement already satisfied: numpy<2.0,>=1.0 in /usr/local/lib/python3.10/dist-packages (from faiss-cpu) (1.25.2)\n",
            "Requirement already satisfied: packaging in /usr/local/lib/python3.10/dist-packages (from faiss-cpu) (24.1)\n",
            "Collecting boto3<2.0.0,>=1.34.0 (from cohere)\n",
            "  Downloading boto3-1.34.139-py3-none-any.whl (139 kB)\n",
            "\u001b[2K     \u001b[90m━━━━━━━━━━━━━━━━━━━━━━━━━━━━━━━━━━━━━━━━\u001b[0m \u001b[32m139.2/139.2 kB\u001b[0m \u001b[31m18.1 MB/s\u001b[0m eta \u001b[36m0:00:00\u001b[0m\n",
            "\u001b[?25hCollecting fastavro<2.0.0,>=1.9.4 (from cohere)\n",
            "  Downloading fastavro-1.9.4-cp310-cp310-manylinux_2_17_x86_64.manylinux2014_x86_64.whl (3.1 MB)\n",
            "\u001b[2K     \u001b[90m━━━━━━━━━━━━━━━━━━━━━━━━━━━━━━━━━━━━━━━━\u001b[0m \u001b[32m3.1/3.1 MB\u001b[0m \u001b[31m67.1 MB/s\u001b[0m eta \u001b[36m0:00:00\u001b[0m\n",
            "\u001b[?25hRequirement already satisfied: httpx>=0.21.2 in /usr/local/lib/python3.10/dist-packages (from cohere) (0.27.0)\n",
            "Collecting httpx-sse<0.5.0,>=0.4.0 (from cohere)\n",
            "  Downloading httpx_sse-0.4.0-py3-none-any.whl (7.8 kB)\n",
            "Collecting parameterized<0.10.0,>=0.9.0 (from cohere)\n",
            "  Downloading parameterized-0.9.0-py2.py3-none-any.whl (20 kB)\n",
            "Requirement already satisfied: pydantic>=1.9.2 in /usr/local/lib/python3.10/dist-packages (from cohere) (2.8.0)\n",
            "Requirement already satisfied: requests<3.0.0,>=2.0.0 in /usr/local/lib/python3.10/dist-packages (from cohere) (2.31.0)\n",
            "Requirement already satisfied: tokenizers<1,>=0.15 in /usr/local/lib/python3.10/dist-packages (from cohere) (0.19.1)\n",
            "Collecting types-requests<3.0.0,>=2.0.0 (from cohere)\n",
            "  Downloading types_requests-2.32.0.20240622-py3-none-any.whl (15 kB)\n",
            "Requirement already satisfied: typing_extensions>=4.0.0 in /usr/local/lib/python3.10/dist-packages (from cohere) (4.12.2)\n",
            "Collecting botocore<1.35.0,>=1.34.139 (from boto3<2.0.0,>=1.34.0->cohere)\n",
            "  Downloading botocore-1.34.139-py3-none-any.whl (12.4 MB)\n",
            "\u001b[2K     \u001b[90m━━━━━━━━━━━━━━━━━━━━━━━━━━━━━━━━━━━━━━━━\u001b[0m \u001b[32m12.4/12.4 MB\u001b[0m \u001b[31m77.6 MB/s\u001b[0m eta \u001b[36m0:00:00\u001b[0m\n",
            "\u001b[?25hCollecting jmespath<2.0.0,>=0.7.1 (from boto3<2.0.0,>=1.34.0->cohere)\n",
            "  Downloading jmespath-1.0.1-py3-none-any.whl (20 kB)\n",
            "Collecting s3transfer<0.11.0,>=0.10.0 (from boto3<2.0.0,>=1.34.0->cohere)\n",
            "  Downloading s3transfer-0.10.2-py3-none-any.whl (82 kB)\n",
            "\u001b[2K     \u001b[90m━━━━━━━━━━━━━━━━━━━━━━━━━━━━━━━━━━━━━━━━\u001b[0m \u001b[32m82.7/82.7 kB\u001b[0m \u001b[31m11.1 MB/s\u001b[0m eta \u001b[36m0:00:00\u001b[0m\n",
            "\u001b[?25hRequirement already satisfied: anyio in /usr/local/lib/python3.10/dist-packages (from httpx>=0.21.2->cohere) (3.7.1)\n",
            "Requirement already satisfied: certifi in /usr/local/lib/python3.10/dist-packages (from httpx>=0.21.2->cohere) (2024.6.2)\n",
            "Requirement already satisfied: httpcore==1.* in /usr/local/lib/python3.10/dist-packages (from httpx>=0.21.2->cohere) (1.0.5)\n",
            "Requirement already satisfied: idna in /usr/local/lib/python3.10/dist-packages (from httpx>=0.21.2->cohere) (3.7)\n",
            "Requirement already satisfied: sniffio in /usr/local/lib/python3.10/dist-packages (from httpx>=0.21.2->cohere) (1.3.1)\n",
            "Requirement already satisfied: h11<0.15,>=0.13 in /usr/local/lib/python3.10/dist-packages (from httpcore==1.*->httpx>=0.21.2->cohere) (0.14.0)\n",
            "Requirement already satisfied: PyYAML>=5.3 in /usr/local/lib/python3.10/dist-packages (from langchain-core<0.3,>=0.2.0->langchain_cohere) (6.0.1)\n",
            "Requirement already satisfied: jsonpatch<2.0,>=1.33 in /usr/local/lib/python3.10/dist-packages (from langchain-core<0.3,>=0.2.0->langchain_cohere) (1.33)\n",
            "Requirement already satisfied: langsmith<0.2.0,>=0.1.75 in /usr/local/lib/python3.10/dist-packages (from langchain-core<0.3,>=0.2.0->langchain_cohere) (0.1.83)\n",
            "Requirement already satisfied: tenacity!=8.4.0,<9.0.0,>=8.1.0 in /usr/local/lib/python3.10/dist-packages (from langchain-core<0.3,>=0.2.0->langchain_cohere) (8.4.2)\n",
            "Requirement already satisfied: annotated-types>=0.4.0 in /usr/local/lib/python3.10/dist-packages (from pydantic>=1.9.2->cohere) (0.7.0)\n",
            "Requirement already satisfied: pydantic-core==2.20.0 in /usr/local/lib/python3.10/dist-packages (from pydantic>=1.9.2->cohere) (2.20.0)\n",
            "Requirement already satisfied: charset-normalizer<4,>=2 in /usr/local/lib/python3.10/dist-packages (from requests<3.0.0,>=2.0.0->cohere) (3.3.2)\n",
            "Requirement already satisfied: urllib3<3,>=1.21.1 in /usr/local/lib/python3.10/dist-packages (from requests<3.0.0,>=2.0.0->cohere) (2.0.7)\n",
            "Requirement already satisfied: huggingface-hub<1.0,>=0.16.4 in /usr/local/lib/python3.10/dist-packages (from tokenizers<1,>=0.15->cohere) (0.23.4)\n",
            "Requirement already satisfied: python-dateutil<3.0.0,>=2.1 in /usr/local/lib/python3.10/dist-packages (from botocore<1.35.0,>=1.34.139->boto3<2.0.0,>=1.34.0->cohere) (2.8.2)\n",
            "Requirement already satisfied: filelock in /usr/local/lib/python3.10/dist-packages (from huggingface-hub<1.0,>=0.16.4->tokenizers<1,>=0.15->cohere) (3.15.4)\n",
            "Requirement already satisfied: fsspec>=2023.5.0 in /usr/local/lib/python3.10/dist-packages (from huggingface-hub<1.0,>=0.16.4->tokenizers<1,>=0.15->cohere) (2023.6.0)\n",
            "Requirement already satisfied: tqdm>=4.42.1 in /usr/local/lib/python3.10/dist-packages (from huggingface-hub<1.0,>=0.16.4->tokenizers<1,>=0.15->cohere) (4.66.4)\n",
            "Requirement already satisfied: jsonpointer>=1.9 in /usr/local/lib/python3.10/dist-packages (from jsonpatch<2.0,>=1.33->langchain-core<0.3,>=0.2.0->langchain_cohere) (3.0.0)\n",
            "Requirement already satisfied: orjson<4.0.0,>=3.9.14 in /usr/local/lib/python3.10/dist-packages (from langsmith<0.2.0,>=0.1.75->langchain-core<0.3,>=0.2.0->langchain_cohere) (3.10.6)\n",
            "Requirement already satisfied: exceptiongroup in /usr/local/lib/python3.10/dist-packages (from anyio->httpx>=0.21.2->cohere) (1.2.1)\n",
            "Requirement already satisfied: six>=1.5 in /usr/local/lib/python3.10/dist-packages (from python-dateutil<3.0.0,>=2.1->botocore<1.35.0,>=1.34.139->boto3<2.0.0,>=1.34.0->cohere) (1.16.0)\n",
            "Installing collected packages: types-requests, parameterized, jmespath, httpx-sse, fastavro, faiss-cpu, botocore, s3transfer, boto3, cohere, langchain_cohere\n",
            "Successfully installed boto3-1.34.139 botocore-1.34.139 cohere-5.5.8 faiss-cpu-1.8.0.post1 fastavro-1.9.4 httpx-sse-0.4.0 jmespath-1.0.1 langchain_cohere-0.1.8 parameterized-0.9.0 s3transfer-0.10.2 types-requests-2.32.0.20240622\n"
          ]
        }
      ],
      "source": [
        "!pip install langchain_cohere faiss-cpu cohere"
      ]
    },
    {
      "cell_type": "code",
      "execution_count": null,
      "metadata": {
        "id": "zBPE_ejuhgHq"
      },
      "outputs": [],
      "source": [
        "cohere_api=\"2O3SahUFUqzbOZKGXEWLxEUE4yKae3PIGCttGgwQ\""
      ]
    },
    {
      "cell_type": "markdown",
      "metadata": {
        "id": "gRtRaRV3R2UO"
      },
      "source": [
        "## Runnable Pass Through"
      ]
    },
    {
      "cell_type": "code",
      "execution_count": null,
      "metadata": {
        "colab": {
          "base_uri": "https://localhost:8080/"
        },
        "id": "z09gfV5X6a7Q",
        "outputId": "e6099a4b-673d-4296-cf05-08c85bf875d9"
      },
      "outputs": [
        {
          "name": "stdout",
          "output_type": "stream",
          "text": [
            "According to the context, Rohit is a player on the Indian team, likely referring to Rohit Sharma, the Indian cricketer who has captained the team.\n"
          ]
        }
      ],
      "source": [
        "from langchain_community.vectorstores import FAISS\n",
        "from langchain_core.prompts import ChatPromptTemplate\n",
        "from langchain_core.output_parsers import StrOutputParser\n",
        "from langchain_core.runnables import RunnablePassthrough\n",
        "from langchain_cohere import CohereEmbeddings\n",
        "from langchain_groq import ChatGroq\n",
        "\n",
        "llm = ChatGroq(groq_api_key=groq_api,model=\"Llama3-8b-8192\")\n",
        "embeddings=CohereEmbeddings(cohere_api_key=cohere_api)\n",
        "vectorstores=FAISS.from_texts(texts=[\"Between Kohli’s vintage innings and Pandya’s moment of redemption, Rohit’s India end their long wait for a world title in Barbados.\"],embedding=embeddings)\n",
        "\n",
        "retriever=vectorstores.as_retriever()\n",
        "\n",
        "template=\"\"\"  Answer the question based on the following context:\n",
        "{context}\n",
        "\n",
        "Question: {question}\n",
        "\n",
        "\"\"\"\n",
        "\n",
        "prompt=ChatPromptTemplate.from_template(template)\n",
        "\n",
        "retrieval_chain=(\n",
        "    {\"context\":retriever,\"question\":RunnablePassthrough()}\n",
        "    |prompt|llm|parser\n",
        ")\n",
        "\n",
        "result=retrieval_chain.invoke(\"Who is Rohit?\")\n",
        "print(result)"
      ]
    },
    {
      "cell_type": "markdown",
      "metadata": {
        "id": "c96Ny8CykE4H"
      },
      "source": [
        "## Parallelism"
      ]
    },
    {
      "cell_type": "code",
      "execution_count": null,
      "metadata": {
        "colab": {
          "base_uri": "https://localhost:8080/"
        },
        "id": "l0NnZvAocQ40",
        "outputId": "1708d54c-6f6c-47e7-f63e-0ad00ad9c7b4"
      },
      "outputs": [
        {
          "name": "stdout",
          "output_type": "stream",
          "text": [
            "{'tech': 'I\\'d be happy to explain linked lists!\\n\\n**What is a Linked List?**\\n\\nA linked list is a data structure in computer science that consists of a sequence of nodes, where each node contains a value and a reference (or link) to the next node in the sequence. This allows for efficient insertion and deletion of nodes at any position in the list, making it a popular choice for many applications.\\n\\n**Example:**\\n\\nImagine you have a list of names, and you want to insert and remove names from the list dynamically. You can use a linked list to store the names, where each node represents a name and contains a reference to the next node in the list.\\n\\nHere\\'s an example:\\n```\\nNode 1: John -> Node 2: Mary -> Node 3: David\\n```\\nIn this example, Node 1 represents the name \"John\", Node 2 represents the name \"Mary\", and Node 3 represents the name \"David\". Each node contains a reference to the next node in the list, so Node 1 points to Node 2, Node 2 points to Node 3, and so on.\\n\\n**How Does it Work?**\\n\\nWhen you insert a new name into the list, you simply create a new node with the name and add it to the list. You can insert the new node anywhere in the list, as long as you keep track of the references between the nodes.\\n\\nFor example, let\\'s say you want to insert the name \"Alice\" between Node 1 and Node 2:\\n```\\nNode 1: John -> Node 2: Alice -> Node 3: Mary -> Node 4: David\\n```\\nTo do this, you create a new node with the name \"Alice\" and update the references between the nodes. Node 1 still points to Node 2, but now Node 2 points to the new node \"Alice\", which in turn points to Node 3.\\n\\nWhen you delete a node from the list, you simply update the references between the nodes to skip over the deleted node. For example, if you delete Node 3 (Mary), the list becomes:\\n```\\nNode 1: John -> Node 2: Alice -> Node 4: David\\n```\\n**Advantages**\\n\\nLinked lists have several advantages, including:\\n\\n* Efficient insertion and deletion: Linked lists allow for efficient insertion and deletion of nodes at any position in the list, making it a popular choice for many applications.\\n* Dynamic memory allocation: Linked lists can grow or shrink dynamically as nodes are added or removed, making it a good choice for applications that require flexible memory management.\\n* Good cache locality: Linked lists can be optimized for cache locality, which can improve performance in certain scenarios.\\n\\n**Disadvantages**\\n\\nLinked lists also have some disadvantages, including:\\n\\n* Slow search: Linked lists can be slow to search, as you need to traverse the list from the beginning to find a specific node.\\n* More memory usage: Linked lists require more memory than arrays, as each node contains a reference to the next node.\\n\\nI hope this helps! Let me know if you have any further questions.', 'poem': 'A chain of nodes, so fine and bright\\nConnected one to another, in a winding light\\nEach holding hands, in a digital dance\\nA linked list, a wondrous prance\\n\\nThe head nods first, with a gentle sway\\nThe next node follows, in a rhythmic way\\nThe tail trails last, with a gentle pace\\nThe linked list unwinds, with a digital face\\n\\nThe elements flow, like a winding stream\\nEach one connected, in a logical scheme\\nThe links between, a sturdy frame\\nHolding the data, in a digital fame\\n\\nThe traversals, a journey so grand\\nFrom head to tail, through the linked land\\nThe nodes are visited, one by one\\nThe data is processed, beneath the digital sun\\n\\nThe insertion, a delicate art\\nA new node added, to the linked heart\\nThe links are updated, with a gentle touch\\nThe list is rebalanced, with a digital clutch\\n\\nThe deletion, a careful move\\nA node is removed, from the linked groove\\nThe links are adjusted, with a gentle care\\nThe list is rebalanced, with a digital air\\n\\nThe linked list, a wondrous thing\\nA digital creation, with a logical ring\\nA chain of nodes, connected so fine\\nA linked list, a digital masterpiece divine.'}\n"
          ]
        }
      ],
      "source": [
        "from langchain_core.output_parsers import StrOutputParser\n",
        "from langchain_core.prompts import ChatPromptTemplate\n",
        "from langchain_core.runnables import RunnableParallel\n",
        "from langchain_groq import ChatGroq\n",
        "\n",
        "llm = ChatGroq(groq_api_key=groq_api,model=\"Llama3-8b-8192\")\n",
        "\n",
        "tech_prompt=PromptTemplate.from_template(\"You have great knowledge about technology and computer science . You are an coding or programming or technology related wikipedia .Now try to answer some question based on a topic from the knowledge you have .Explain with an example {topic}.\")\n",
        "parser=StrOutputParser()\n",
        "\n",
        "tech_chain=tech_prompt|llm|parser\n",
        "\n",
        "poem_prompt=PromptTemplate.from_template(\"Write a poem about {topic}\")\n",
        "poem_chain=poem_prompt|llm|parser\n",
        "\n",
        "parallel_chain=RunnableParallel(tech=tech_chain,poem=poem_chain)\n",
        "\n",
        "result=parallel_chain.invoke({\"topic\":\"a linked list\"})\n",
        "print(result)"
      ]
    },
    {
      "cell_type": "code",
      "execution_count": null,
      "metadata": {
        "colab": {
          "base_uri": "https://localhost:8080/"
        },
        "id": "js63wC4Bdfl8",
        "outputId": "c0cb601e-3877-41de-e550-ca88d5fff0f4"
      },
      "outputs": [
        {
          "name": "stdout",
          "output_type": "stream",
          "text": [
            "393 ms ± 135 ms per loop (mean ± std. dev. of 7 runs, 1 loop each)\n"
          ]
        }
      ],
      "source": [
        "%%timeit\n",
        "poem_chain.invoke({\"topic\":\"a linked list\"})"
      ]
    },
    {
      "cell_type": "code",
      "execution_count": null,
      "metadata": {
        "colab": {
          "base_uri": "https://localhost:8080/"
        },
        "id": "LFyG_4iCed5E",
        "outputId": "f8f4c331-67d5-4ded-a1f2-14a2d07b0e64"
      },
      "outputs": [
        {
          "name": "stdout",
          "output_type": "stream",
          "text": [
            "757 ms ± 112 ms per loop (mean ± std. dev. of 7 runs, 1 loop each)\n"
          ]
        }
      ],
      "source": [
        "%%timeit\n",
        "tech_chain.invoke({\"topic\":\"a linked list\"})"
      ]
    },
    {
      "cell_type": "code",
      "execution_count": null,
      "metadata": {
        "colab": {
          "base_uri": "https://localhost:8080/"
        },
        "id": "dSyWN5cCekRX",
        "outputId": "1fb67b79-523a-44f0-8f56-5bb621eba227"
      },
      "outputs": [
        {
          "name": "stdout",
          "output_type": "stream",
          "text": [
            "751 ms ± 165 ms per loop (mean ± std. dev. of 7 runs, 1 loop each)\n"
          ]
        }
      ],
      "source": [
        "%%timeit\n",
        "parallel_chain.invoke({\"topic\":\"a linked list\"})"
      ]
    },
    {
      "cell_type": "markdown",
      "metadata": {
        "id": "3BypL70TexkL"
      },
      "source": [
        "#Infernece:#\n",
        "All three have same runtime ,although parallel chain executes both of the other two"
      ]
    },
    {
      "cell_type": "code",
      "execution_count": null,
      "metadata": {
        "colab": {
          "base_uri": "https://localhost:8080/"
        },
        "id": "aTm4hbPnetxn",
        "outputId": "4ed04d77-d8fc-45ea-c0e2-63b83513febf"
      },
      "outputs": [
        {
          "name": "stdout",
          "output_type": "stream",
          "text": [
            "EQUATION: ∫[sin(x) + log|x|] dx from -2 to 3\n",
            "\n",
            "CHAPTER: Integration\n",
            "\n",
            "SOLUTION:\n",
            "\n",
            "To evaluate this definite integral, we need to integrate the given function with respect to x, and then apply the Fundamental Theorem of Calculus to find the value of the definite integral.\n",
            "\n",
            "Step 1: Integrate the function sin(x) + log|x| with respect to x.\n",
            "\n",
            "The integral of sin(x) with respect to x is:\n",
            "\n",
            "∫sin(x) dx = -cos(x) + C\n",
            "\n",
            "where C is the constant of integration.\n",
            "\n",
            "The integral of log|x| with respect to x is:\n",
            "\n",
            "∫log|x| dx = x*log|x| - ∫dx|x| + C\n",
            "\n",
            "Since the absolute value function is not differentiable at x = 0, we need to split the integral into two parts:\n",
            "\n",
            "∫log|x| dx = x*log|x| + C1 for x > 0\n",
            "∫log|x| dx = -x*log|x| + C2 for x < 0\n",
            "\n",
            "Combining the two parts, we get:\n",
            "\n",
            "∫log|x| dx = x*log|x| for x ≠ 0\n",
            "∫log|x| dx = 0 for x = 0\n",
            "\n",
            "Step 2: Combine the results from Step 1 and apply the Fundamental Theorem of Calculus.\n",
            "\n",
            "The definite integral is:\n",
            "\n",
            "∫[sin(x) + log|x|] dx from -2 to 3\n",
            "\n",
            "= [-cos(x) + x*log|x|] from -2 to 3\n",
            "\n",
            "= [-cos(3) + 3*log|3|] - [-cos(-2) + (-2)*log|-2|]\n",
            "\n",
            "= [-cos(3) + 3*log(3)] - [-cos(2) + 2*log(2)]\n",
            "\n",
            "= -cos(3) + 3*log(3) + cos(2) - 2*log(2)\n",
            "\n",
            "= -cos(3) + cos(2) + 3*log(3) - 2*log(2)\n",
            "\n",
            "ANSWER: -cos(3) + cos(2) + 3*log(3) - 2*log(2)\n"
          ]
        }
      ],
      "source": [
        "prompt = ChatPromptTemplate.from_messages(\n",
        "    [\n",
        "        (\n",
        "            \"system\",\n",
        "            \"Write out the following equation using algebraic symbols then solve it in details . Use the format\\n\\nEQUATION:...\\nCHAPTER....\\nSOLUTION:...\\n ANSWER\\n\\n\",\n",
        "        ),\n",
        "        (\"human\", \"{equation}\"),\n",
        "    ]\n",
        ")\n",
        "\n",
        "runnable=(\n",
        "    {\"equation\":RunnablePassthrough()}\n",
        "    |prompt\n",
        "    |llm\n",
        "    |parser\n",
        "    )\n",
        "print( runnable.invoke(\"integrate  sinx+log x from -2 to 3\"))"
      ]
    },
    {
      "cell_type": "code",
      "execution_count": null,
      "metadata": {
        "colab": {
          "base_uri": "https://localhost:8080/"
        },
        "id": "MmrZKcLfgchT",
        "outputId": "872bd543-9684-424c-cb86-73a08604c815"
      },
      "outputs": [
        {
          "name": "stdout",
          "output_type": "stream",
          "text": [
            "EQUATION: x^2 + 3x + 1 = 0\n",
            "\n",
            "CHAPTER: Quadratic Equations\n",
            "\n",
            "\n"
          ]
        }
      ],
      "source": [
        "runnable=(\n",
        "    {\"equation\":RunnablePassthrough()}\n",
        "    |prompt\n",
        "    |llm.bind(stop=\"SOLUTION\")\n",
        "    |parser\n",
        "    )\n",
        "print( runnable.invoke(\"\"\"x^2+3*x+1=0\"\"\"))"
      ]
    },
    {
      "cell_type": "code",
      "execution_count": null,
      "metadata": {
        "id": "3FGCi-svhY1S"
      },
      "outputs": [],
      "source": []
    }
  ],
  "metadata": {
    "colab": {
      "provenance": []
    },
    "kernelspec": {
      "display_name": "Python 3",
      "name": "python3"
    },
    "language_info": {
      "name": "python"
    }
  },
  "nbformat": 4,
  "nbformat_minor": 0
}
