{
  "nbformat": 4,
  "nbformat_minor": 0,
  "metadata": {
    "colab": {
      "provenance": []
    },
    "kernelspec": {
      "name": "python3",
      "display_name": "Python 3"
    },
    "language_info": {
      "name": "python"
    }
  },
  "cells": [
    {
      "cell_type": "markdown",
      "source": [
        "## Create a tensor"
      ],
      "metadata": {
        "id": "CL9lcIbCRkRI"
      }
    },
    {
      "cell_type": "code",
      "execution_count": 4,
      "metadata": {
        "colab": {
          "base_uri": "https://localhost:8080/"
        },
        "id": "_73cXHjiRf2r",
        "outputId": "22911b3a-7453-401e-c4c4-4ff19d5a7b77"
      },
      "outputs": [
        {
          "output_type": "stream",
          "name": "stdout",
          "text": [
            "[149.84 -43.73   0.    47.85  -7.   -10.05  11.1   17.51  -4.52  55.96\n",
            " -42.73 117.07  66.8   48.47 148.84 109.39  32.28  10.52 148.63   2.14]\n"
          ]
        }
      ],
      "source": [
        "import numpy as np\n",
        "\n",
        "np.set_printoptions(suppress=True)\n",
        "\n",
        "#Generate random distrbuted parameters\n",
        "params=np.random.uniform(low=-50,high=150,size=20)\n",
        "#print(params)\n",
        "\n",
        "params[0]=params.max()+1\n",
        "params[1]=params.min()-1\n",
        "params[2]=0\n",
        "\n",
        "\n",
        "params=np.round(params,2)\n",
        "print(params)"
      ]
    },
    {
      "cell_type": "markdown",
      "source": [
        "# Asymmetric Quantization\n",
        "![image.png](data:image/png;base64,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)"
      ],
      "metadata": {
        "id": "xE6zsg1ZTR-9"
      }
    },
    {
      "cell_type": "code",
      "source": [
        "def clamp(params_q:np.array,lower_bound:int,upper_bound:int):\n",
        "    params_q[params_q<lower_bound]=lower_bound\n",
        "    params_q[params_q>upper_bound]=upper_bound\n",
        "    return params_q\n",
        "\n",
        "\n",
        "def asymmetric_quantization(params:np.array,bits:int):\n",
        "  alpha=np.max(params)\n",
        "  beta=np.min(params)\n",
        "  scale=(alpha-beta)/(2**bits-1)\n",
        "  z=-1*np.round(beta/scale)\n",
        "  lower_bound,upper_bound=0,2**bits-1\n",
        "  quantized=clamp(np.round(params/scale)+z,lower_bound,upper_bound)\n",
        "  return quantized,scale,z\n",
        "\n",
        "(asymmetric_q, asymmetric_scale, asymmetric_z) = asymmetric_quantization(params, 8)\n",
        "print(f'Asymmetric scale: {asymmetric_scale}, zero: {asymmetric_z}')\n",
        "print(asymmetric_q)\n"
      ],
      "metadata": {
        "colab": {
          "base_uri": "https://localhost:8080/"
        },
        "id": "qQH0Qns2SOfH",
        "outputId": "a444ff6e-cc61-49d9-d9aa-ded4380da0bc"
      },
      "execution_count": 5,
      "outputs": [
        {
          "output_type": "stream",
          "name": "stdout",
          "text": [
            "Asymmetric scale: 0.7590980392156862, zero: 58.0\n",
            "[255.   0.  58. 121.  49.  45.  73.  81.  52. 132.   2. 212. 146. 122.\n",
            " 254. 202. 101.  72. 254.  61.]\n"
          ]
        }
      ]
    },
    {
      "cell_type": "markdown",
      "source": [
        "## Asymmetric Dequantization\n",
        "![image.png](data:image/png;base64,iVBORw0KGgoAAAANSUhEUgAAAKMAAAA2CAYAAACrxylwAAAAAXNSR0IArs4c6QAAAARnQU1BAACxjwv8YQUAAAAJcEhZcwAADsMAAA7DAcdvqGQAAAiRSURBVHhe7dsLUFTXHQbwD1YRCUZGKpUWU01EUxAZAcX6ilGhosFHscZBh1ozoha1aa0xyhBAbamFIVEQTSQGDalkBBOBJkjU6goSBLEgI4pCooDyEHzwEJC7/967e6xiQXm4cJDzm9lh7reXYY/77bn3XO8akAyCwAFD9lMQup0oo8ANUUaBG6KMAjdEGQVuiDIK3BBlFLghyihwQ5RR4IYoo8ANUUaBG6KMAjdEGQVuiDIK3BBlFLghyihwQ5TxMfX19UhLS2NbPVddXR3S09PR0+6bFmVkLly4ADs7Oxw/fpwlPdf9+/cRHBwMNzc3VFdXs7QHUL520NudOHGCzM3NKT4+niU9n0ajIR8fHxo7diyVlpaylG+9/jswd+/ehbW1Nfz8/LB27VqWvhjkQsLd3R0mJiY4dOgQS/nV68sYGBiIvXv3orCwEEZGRix9cZw7dw5OTk7IzMyEo6MjS/nUq88ZGxsbERERAS8vrxeyiAqlgGPGjMGOHTtYwq9eXcacnByUl5fDxcWFJS8mV1dXJCcnc7+67lQZm26cRlTwdkSqb0JiWWPRSUQGBSEmp4El3UiqRE5CJEK2BSDwb6HYezgVBXcevlIgIyND+9PW1lb780n8jk+D8rwzSE1JQUqzRyqyi+rYPo/Y2NigrKwMxcXFLOFTh88ZNeXxWPPbvyPv9mWklLkh5nI05t87CK83V+Kr0iFYmZSLD6e099BXhwtfR+Fk0aPCtMZw8HgsWuSMwa19nJouYc+CmfAvdcGaZeNhUnAYO8JPYei2i1C/NwIqeZfly5cjISEBFRUVut95jH7G95w0nYefkzNCbo2F69SReFlFqMlLRkJ2Pyzcn4oYz1fYjjrKNccJEyYgNjYWHh4eLOWQUsaOuKfeQx+n3KOGM3+h142G0qpvsmmn21h6O+oyVRZfo1sP2I7tUklHNs4m+bD5zIfbqv10tYn9WgseZPrSmH7W9K66QRdIZfTZAltanVyv25ZNnDiR5JN7ttWcfsb3fEglEeT2+hI6eF33D1CTGUwzLAbR5C1pdE+bNCfPisqEQ9u2bWMJnzq/mq6Lx7JXF+K0pROGzw3BV4ETMYA91Z2kq8F4w84ftasTkBwyo8UZ1MHBAaamplCr1SxpwXMeX03GAXyYWIAmtt0qlSWmeXvjzSFPP5NqKvwcS2f4IMc1Gsd3z4VlC7srl6/MzMzg6+sLuZAs5U+nzhm1jJ0wbrQhigxcEOLX8huluZODQ9vXw3vZMqwOS0UNy/VJNWIFtvs640bYWxg32w/xP/z/OZ4kSTAwMGBbrWjD+Nqj6U4RruTnI/+Zj2u4Vf/0eUJTeQwbPdYgZUww4sJaLqLC0FD3hDJennV+Zrzzb/x5ihvCat7B0Uu7ML0fyx+qz8RfZ3oi3fMI9k/JxJ5sB2xYaos+7Onm7uLUDl8czHvmvAGV1Ry8v9kdQ5/6cWrEtaTtWOsThKSGOYhMiYHXMOVsUcfZ2RkqlQpnzpxhSQueNb7uUpeN0Hmu2FqzEglJWzB5IMtbUFVVBXNzcwQEBMDf35+l/OnczCj9iM//8AEqps3GT26eQ/qPT3zyNHW4+pk/QvNGYJJ1OfL7u2Njq0VUGELV1xjGxm149OujXYS0qKYI+UXK/GuEX8zyw+F/fQCninhExd+Q16GPWFpaaleZrXrW+B66ewnHvtiDXfsS8Z+LpxF/uog9oSfSdXy5ygMBRe7YFxcgF1FeXZ/6FF9k1rIdmlMuXymU8XJNmRnbS7qdRQnxx+jLdRPI0edbKi/eRTONTWj6zh/o9qlA+tMnBdREEt1MiaJ33zCnl8atoNCd4XQw/Zac6l91zNs0fMF+KmN/TCrZRS4mA2nBgUpdwGzdupXkwzTV1dWxRKdt49OpyfqI5tr9irzDj1DSgRVk07cvOQZeYM/qgVRFJ993IjOr+fTJRd1irKkkjn4/cgT5HH+0OHtcXFycdgFz/vx5lvCpQ2WsPfI7+qmhiiym/4MyauWg6QrtnDGQVCaDyGr8H+mb8octuEYfTXtJ++Z03eLzAeUETaQBfczIxs2LVnovJddRlmTtsYuyldf6mKNHj2rfpKysLJbotHl8tWpab2NBsyIKdeWsPkDzB1iRd1LLpXge7ny9jH6uMiDjwcNp1KhR8uM1GmKqIgPTeRRVxXZ6gvKhk48m1NjYyBI+daiMDdfT6dvkTCphV00UUtVFOvldGhVWs0BRE0ueg39G7yTeZ0FXkaj25kVKP5VMiYnfUdrlSnrspf6PfC5F8jkj7d69myU6bR3fvVhPsrBYQrHsesqDjM1kZ/YW7bul2+aFu7s7TZ06lW3xq0NlbKuG79+jX5q6UMTNrjg4d8zixYtp0qRJbKs9HlDG5tHUf3IwFWinxQbK8LWn/o5bKLcbr0E+qaKigvrKpw7R0dEs4VfnL+20SoOKjExcf8UBjoP0+Gc6adOmTdq7u8+ePcuSttJAI8nLIUnSXjOszghD4IErMHcYhxGtr9C6XHh4OIYNG4ZFixaxhF96bEk9Ms7mwtjeCbYc3xCj3NGyYcMGeHp6orS0lKVtYYTRs91hnRcGr98sxKrDfTHSygj2zo7g5eqPcnNEaGio9s4keXZkKcfYDPn8NaTS+lED6de7S7pkBd0Zyl3RQUFBZG9vT7m5uSxtm5qSXMq+Kp+TlkXSHDNHCsjp/mO0JEnaFbSVlRWp1WqW8k9PZbxPhf9cQq9Zr6DE5ldTuKasruVZkm21T3XcUhr8sjtFlj7lP8y7SHFxMa1bt47y8/NZ0jPo4U5vCQUxfgjJssC81asxazgvBy190qDy+xhEp5XD8FVXrJxnIx/Ehfbq9V87EPjB7zJX6HVEGQVuiDIK3BBlFLghyihwQ5RR4IYoo8ANUUaBG6KMAjdEGQVuiDIK3BBlFLghyihwAvgvQs5GkINocYQAAAAASUVORK5CYII=)"
      ],
      "metadata": {
        "id": "650zVI25U98i"
      }
    },
    {
      "cell_type": "code",
      "source": [
        "def asymmetric_dequantize(params_q: np.array, scale: float, z: int):\n",
        "    return (params_q - z) * scale\n",
        "\n",
        "# Dequantize the parameters back to 32 bits\n",
        "params_deq_asymmetric = asymmetric_dequantize(asymmetric_q, asymmetric_scale, asymmetric_z)\n",
        "\n",
        "print(f'Dequantize Asymmetric:')\n",
        "print(np.round(params_deq_asymmetric,2))\n",
        "print('')"
      ],
      "metadata": {
        "colab": {
          "base_uri": "https://localhost:8080/"
        },
        "id": "G4d4ASm7U38V",
        "outputId": "8a91976f-20d6-4f39-b6b5-4a766bcbb7c5"
      },
      "execution_count": 7,
      "outputs": [
        {
          "output_type": "stream",
          "name": "stdout",
          "text": [
            "Dequantize Asymmetric:\n",
            "[149.54 -44.03   0.    47.82  -6.83  -9.87  11.39  17.46  -4.55  56.17\n",
            " -42.51 116.9   66.8   48.58 148.78 109.31  32.64  10.63 148.78   2.28]\n",
            "\n"
          ]
        }
      ]
    },
    {
      "cell_type": "markdown",
      "source": [
        "## Symmetric Quantization\n",
        "![image.png](data:image/png;base64,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)"
      ],
      "metadata": {
        "id": "q3Z2HeBtVzcM"
      }
    },
    {
      "cell_type": "code",
      "source": [
        "def symmetric_quantization(params: np.array, bits: int):\n",
        "    # Calculate the scale\n",
        "    alpha = np.max(np.abs(params))\n",
        "    scale = alpha / (2**(bits-1)-1)\n",
        "    lower_bound = -2**(bits-1)+1\n",
        "    upper_bound = 2**(bits-1)-1\n",
        "    # Quantize the parameters\n",
        "    quantized = clamp(np.round(params / scale), lower_bound, upper_bound).astype(np.int32)\n",
        "    return quantized, scale\n",
        "\n",
        "(symmetric_q, symmetric_scale) = symmetric_quantization(params, 8)\n",
        "print(f'Symmetric scale: {symmetric_scale}')\n",
        "print(symmetric_q)"
      ],
      "metadata": {
        "colab": {
          "base_uri": "https://localhost:8080/"
        },
        "id": "1v-MosSnVcAI",
        "outputId": "fa47a648-f595-4064-b149-e4e3c7a79d73"
      },
      "execution_count": 9,
      "outputs": [
        {
          "output_type": "stream",
          "name": "stdout",
          "text": [
            "Symmetric scale: 1.1798425196850395\n",
            "[127 -37   0  41  -6  -9   9  15  -4  47 -36  99  57  41 126  93  27   9\n",
            " 126   2]\n"
          ]
        }
      ]
    },
    {
      "cell_type": "markdown",
      "source": [
        "## Symmetric Dequantization\n",
        "![image.png](data:image/png;base64,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)"
      ],
      "metadata": {
        "id": "uImpLEYqXJGw"
      }
    },
    {
      "cell_type": "code",
      "source": [
        "def symmetric_dequantize(params_q: np.array, scale: float) -> np.array:\n",
        "    return params_q * scale\n",
        "params_deq_symmetric = symmetric_dequantize(symmetric_q, symmetric_scale)\n",
        "\n",
        "print(f'Dequantize Symmetric:')\n",
        "print(np.round(params_deq_symmetric, 2))"
      ],
      "metadata": {
        "colab": {
          "base_uri": "https://localhost:8080/"
        },
        "id": "zbG7Pg0YWSvx",
        "outputId": "0907cfa7-c7fe-492c-cd85-c6cff53b3434"
      },
      "execution_count": 12,
      "outputs": [
        {
          "output_type": "stream",
          "name": "stdout",
          "text": [
            "Dequantize Symmetric:\n",
            "[149.84 -43.65   0.    48.37  -7.08 -10.62  10.62  17.7   -4.72  55.45\n",
            " -42.47 116.8   67.25  48.37 148.66 109.73  31.86  10.62 148.66   2.36]\n"
          ]
        }
      ]
    },
    {
      "cell_type": "code",
      "source": [
        "def quantization_error(params: np.array, params_q: np.array):\n",
        "    # calculate the MSE\n",
        "    return np.mean((params - params_q)**2)\n",
        "# Calculate the quantization error\n",
        "print(f'{\"Asymmetric error: \":>20}{np.round(quantization_error(params, params_deq_asymmetric), 2)}')\n",
        "print(f'{\"Symmetric error: \":>20}{np.round(quantization_error(params, params_deq_symmetric), 2)}')"
      ],
      "metadata": {
        "colab": {
          "base_uri": "https://localhost:8080/"
        },
        "id": "tCk59SIEW5HM",
        "outputId": "759c62a6-e161-43f7-ee0d-d147b94c5d61"
      },
      "execution_count": 13,
      "outputs": [
        {
          "output_type": "stream",
          "name": "stdout",
          "text": [
            "  Asymmetric error: 0.03\n",
            "   Symmetric error: 0.1\n"
          ]
        }
      ]
    },
    {
      "cell_type": "code",
      "source": [],
      "metadata": {
        "id": "onNIeoGiXi3k"
      },
      "execution_count": null,
      "outputs": []
    }
  ]
}